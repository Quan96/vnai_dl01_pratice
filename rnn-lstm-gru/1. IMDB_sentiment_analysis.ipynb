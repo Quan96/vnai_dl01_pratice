{
 "cells": [
  {
   "cell_type": "markdown",
   "metadata": {},
   "source": [
    "**Nội dung bài thực hành**\n",
    "\n",
    "Người học tiếp cận và giải quyết bài toán phân tích cảm xúc sử dụng 2 mô hình là RNN và GRU. Sau khi thực hành, người học có khả năng:\n",
    "1. Sử dụng được Keras để cài đặt các mô hình mạng truy hồi\n",
    "  \n",
    "\n",
    "*   Thao tác với dữ liệu\n",
    "*   Chuyển từ văn bản sang không gian vector qua mạng truy hồi\n",
    "\n",
    "\n",
    "2. Áp dụng được RNN/ GRU cho bài toán phân tích cảm xúc\n",
    "\n",
    "\n",
    "*   Huấn luyện mô hình\n",
    "*   Đánh gía mô hình\n",
    "\n",
    "\n",
    "3. Cải tiến được mô hình phân tích cảm xúc\n",
    "3. Thực hành được với bài toán thực tế"
   ]
  },
  {
   "cell_type": "markdown",
   "metadata": {},
   "source": [
    "**Thao tác với dữ liệu**\n",
    "\n",
    "\n",
    "\n",
    "*   Bài thực hành sử dụng bộ dữ liệu IMDB review\n",
    "*   Dữ liệu gồm 2 phần: tập huấn luyện và tập kiểm thử (train data và test data). Mỗi phần gồm có 25000 câu, đuợc phân vào 2 lớp cảm xúc tích cực (positive) và tiêu cực (negative)\n",
    "*   Yêu cầu: xây dựng mô hình phân tích cảm xúc các đánh giá của nguời dùng dựa trên 2 mô hình RNN và GRU\n",
    "\n"
   ]
  },
  {
   "cell_type": "markdown",
   "metadata": {},
   "source": [
    "## Chuẩn bị dữ liệu\n",
    "### Download and unzip data "
   ]
  },
  {
   "cell_type": "code",
   "execution_count": 1,
   "metadata": {},
   "outputs": [
    {
     "name": "stdout",
     "output_type": "stream",
     "text": [
      "--2019-03-19 16:27:40--  http://ai.stanford.edu/~amaas/data/sentiment/aclImdb_v1.tar.gz\n",
      "Resolving ai.stanford.edu (ai.stanford.edu)... 171.64.68.10\n",
      "Connecting to ai.stanford.edu (ai.stanford.edu)|171.64.68.10|:80... connected.\n",
      "HTTP request sent, awaiting response... 200 OK\n",
      "Length: 84125825 (80M) [application/x-gzip]\n",
      "Saving to: 'aclImdb_v1.tar.gz'\n",
      "\n",
      "aclImdb_v1.tar.gz   100%[===================>]  80.23M  4.18MB/s    in 32s     \n",
      "\n",
      "2019-03-19 16:28:13 (2.54 MB/s) - 'aclImdb_v1.tar.gz' saved [84125825/84125825]\n",
      "\n"
     ]
    }
   ],
   "source": [
    "!wget http://ai.stanford.edu/~amaas/data/sentiment/aclImdb_v1.tar.gz"
   ]
  },
  {
   "cell_type": "code",
   "execution_count": 3,
   "metadata": {},
   "outputs": [],
   "source": [
    "# unzip downloaded file\n",
    "import tarfile\n",
    "tf = tarfile.open(\"aclImdb_v1.tar.gz\")\n",
    "tf.extractall()"
   ]
  },
  {
   "cell_type": "code",
   "execution_count": 11,
   "metadata": {},
   "outputs": [],
   "source": [
    "# Merge file\n",
    "# test\n",
    "import pandas as pd\n",
    "import os\n",
    "labels={\"pos\":1, \"neg\":0}\n",
    "test_df = pd.DataFrame()\n",
    "train_df = pd.DataFrame()\n",
    "\n",
    "for l in (\"pos\", \"neg\"):\n",
    "    path = \"aclImdb/train/%s\" %(l)\n",
    "    for file in os.listdir(path):\n",
    "        with open(os.path.join(path, file)) as infile:\n",
    "            txt = infile.read()\n",
    "        train_df = train_df.append([[txt, labels[l]]], ignore_index=True)\n",
    "train_df.columns=[\"review\", \"sentiment\"]\n",
    "\n",
    "for l in (\"pos\", \"neg\"):\n",
    "    path = \"aclImdb/test/%s\" %(l)\n",
    "    for file in os.listdir(path):\n",
    "        with open(os.path.join(path, file)) as infile:\n",
    "            txt = infile.read()\n",
    "        test_df = test_df.append([[txt, labels[l]]], ignore_index=True)\n",
    "test_df.columns=[\"review\", \"sentiment\"]"
   ]
  },
  {
   "cell_type": "code",
   "execution_count": 71,
   "metadata": {},
   "outputs": [
    {
     "data": {
      "text/html": [
       "<div>\n",
       "<style scoped>\n",
       "    .dataframe tbody tr th:only-of-type {\n",
       "        vertical-align: middle;\n",
       "    }\n",
       "\n",
       "    .dataframe tbody tr th {\n",
       "        vertical-align: top;\n",
       "    }\n",
       "\n",
       "    .dataframe thead th {\n",
       "        text-align: right;\n",
       "    }\n",
       "</style>\n",
       "<table border=\"1\" class=\"dataframe\">\n",
       "  <thead>\n",
       "    <tr style=\"text-align: right;\">\n",
       "      <th></th>\n",
       "      <th>review</th>\n",
       "      <th>sentiment</th>\n",
       "    </tr>\n",
       "  </thead>\n",
       "  <tbody>\n",
       "    <tr>\n",
       "      <th>3670</th>\n",
       "      <td>i just wanna say that amongst all the so calle...</td>\n",
       "      <td>1</td>\n",
       "    </tr>\n",
       "    <tr>\n",
       "      <th>22723</th>\n",
       "      <td>please help the economy spend your money elsew...</td>\n",
       "      <td>0</td>\n",
       "    </tr>\n",
       "    <tr>\n",
       "      <th>11240</th>\n",
       "      <td>i think the context of the story has been cove...</td>\n",
       "      <td>1</td>\n",
       "    </tr>\n",
       "    <tr>\n",
       "      <th>20684</th>\n",
       "      <td>i m stunned that the reviewers imdb gave this ...</td>\n",
       "      <td>0</td>\n",
       "    </tr>\n",
       "    <tr>\n",
       "      <th>14727</th>\n",
       "      <td>i remember reading all the horrible horrible r...</td>\n",
       "      <td>0</td>\n",
       "    </tr>\n",
       "  </tbody>\n",
       "</table>\n",
       "</div>"
      ],
      "text/plain": [
       "                                                  review  sentiment\n",
       "3670   i just wanna say that amongst all the so calle...          1\n",
       "22723  please help the economy spend your money elsew...          0\n",
       "11240  i think the context of the story has been cove...          1\n",
       "20684  i m stunned that the reviewers imdb gave this ...          0\n",
       "14727  i remember reading all the horrible horrible r...          0"
      ]
     },
     "execution_count": 71,
     "metadata": {},
     "output_type": "execute_result"
    }
   ],
   "source": [
    "train_df.sample(frac=1).head()"
   ]
  },
  {
   "cell_type": "code",
   "execution_count": 13,
   "metadata": {},
   "outputs": [
    {
     "data": {
      "text/html": [
       "<div>\n",
       "<style scoped>\n",
       "    .dataframe tbody tr th:only-of-type {\n",
       "        vertical-align: middle;\n",
       "    }\n",
       "\n",
       "    .dataframe tbody tr th {\n",
       "        vertical-align: top;\n",
       "    }\n",
       "\n",
       "    .dataframe thead th {\n",
       "        text-align: right;\n",
       "    }\n",
       "</style>\n",
       "<table border=\"1\" class=\"dataframe\">\n",
       "  <thead>\n",
       "    <tr style=\"text-align: right;\">\n",
       "      <th></th>\n",
       "      <th>review</th>\n",
       "      <th>sentiment</th>\n",
       "    </tr>\n",
       "  </thead>\n",
       "  <tbody>\n",
       "    <tr>\n",
       "      <th>0</th>\n",
       "      <td>Rated TV-14 for Sexual Content and Language.&lt;b...</td>\n",
       "      <td>1</td>\n",
       "    </tr>\n",
       "    <tr>\n",
       "      <th>1</th>\n",
       "      <td>Somehow, I missed many of the early Farscape e...</td>\n",
       "      <td>1</td>\n",
       "    </tr>\n",
       "    <tr>\n",
       "      <th>2</th>\n",
       "      <td>Supercarrier was my favorite movie in the late...</td>\n",
       "      <td>1</td>\n",
       "    </tr>\n",
       "    <tr>\n",
       "      <th>3</th>\n",
       "      <td>This is a harrowing movie, and it moves relent...</td>\n",
       "      <td>1</td>\n",
       "    </tr>\n",
       "    <tr>\n",
       "      <th>4</th>\n",
       "      <td>I recently saw House of Wax and must say i rea...</td>\n",
       "      <td>1</td>\n",
       "    </tr>\n",
       "  </tbody>\n",
       "</table>\n",
       "</div>"
      ],
      "text/plain": [
       "                                              review  sentiment\n",
       "0  Rated TV-14 for Sexual Content and Language.<b...          1\n",
       "1  Somehow, I missed many of the early Farscape e...          1\n",
       "2  Supercarrier was my favorite movie in the late...          1\n",
       "3  This is a harrowing movie, and it moves relent...          1\n",
       "4  I recently saw House of Wax and must say i rea...          1"
      ]
     },
     "execution_count": 13,
     "metadata": {},
     "output_type": "execute_result"
    }
   ],
   "source": [
    "test_df.head()"
   ]
  },
  {
   "cell_type": "markdown",
   "metadata": {},
   "source": [
    "### Làm sạch dữ liệu\n",
    "\n",
    "Vì dữ liệu đuợc crawl trực tiếp từ trang web nên việc xoá các tag html hay các cảm xúc emotition là cần thiết"
   ]
  },
  {
   "cell_type": "code",
   "execution_count": 73,
   "metadata": {},
   "outputs": [],
   "source": [
    "import re\n",
    "def preprocessor(text):\n",
    "    text = re.sub(r\"<[^>]>\", '', text)\n",
    "    emoticons = re.findall(\"(?:|;|=)(?:-)?(?:\\)\\(|D|P)\", text)\n",
    "    text = re.sub(\"[\\W]+\", \" \", text.lower()) + \\\n",
    "            \" \".join(emoticons).replace('-', '')\n",
    "    return text.lower()\n",
    "train_df[\"review\"] = train_df[\"review\"].apply(preprocessor)\n",
    "test_df[\"review\"] = test_df[\"review\"].apply(preprocessor)"
   ]
  },
  {
   "cell_type": "markdown",
   "metadata": {},
   "source": [
    "### Biễu diễn dữ liệu"
   ]
  },
  {
   "cell_type": "code",
   "execution_count": 21,
   "metadata": {},
   "outputs": [
    {
     "data": {
      "image/png": "[encoded data removed]",
      "text/plain": [
       "<matplotlib.figure.Figure at 0x7fb08b210400>"
      ]
     },
     "metadata": {},
     "output_type": "display_data"
    }
   ],
   "source": [
    "from nltk.tokenize import word_tokenize\n",
    "import matplotlib.pyplot as plt\n",
    "%matplotlib inline\n",
    "\n",
    "plt.figure(figsize=(10,8))\n",
    "plt.subplot(2,1,1)\n",
    "plt.hist([len(word_tokenize(sent)) for sent in train_df[\"review\"]], bins=64)\n",
    "plt.xlabel(\"length of sentence\")\n",
    "plt.ylabel(\"Number of Sentences\")\n",
    "plt.title(\"Length of sentence in train data\")\n",
    "plt.grid()\n",
    "plt.subplot(2,1,2)\n",
    "plt.hist([len(word_tokenize(sent)) for sent in test_df[\"review\"]], bins=64)\n",
    "plt.xlabel(\"length of sentence\")\n",
    "plt.ylabel(\"Number of Sentences\")\n",
    "plt.title(\"Length of sentence in test data\")\n",
    "plt.grid()"
   ]
  },
  {
   "cell_type": "markdown",
   "metadata": {},
   "source": [
    "### Config\n",
    "Chuẩn bị các tham số cho mô hình"
   ]
  },
  {
   "cell_type": "code",
   "execution_count": 100,
   "metadata": {},
   "outputs": [],
   "source": [
    "from keras.preprocessing.text import Tokenizer\n",
    "from keras.preprocessing.sequence import pad_sequences\n",
    "from keras.layers.recurrent import GRU, SimpleRNN\n",
    "from keras.layers import CuDNNGRU # comment dong nay neu may ban khong ho tro CuDNN\n",
    "from keras.layers.embeddings import Embedding\n",
    "from keras.models import Model\n",
    "from keras.layers import Input, TimeDistributed, BatchNormalization\n",
    "from keras.layers.core import Activation, Dense, Dropout\n",
    "from keras.layers.wrappers import Bidirectional\n",
    "\n",
    "from keras import backend as K\n",
    "\n",
    "\n",
    "max_len = 500\n",
    "num_words = 5000\n",
    "embedding_dim = 300\n",
    "dropout = 0.2\n",
    "hidden_dim = 750\n",
    "l2_reg = 1e-4\n",
    "batch_size = 160\n",
    "epochs = 16\n",
    "learning_rate = 1e-3\n",
    "rnnact = 'tanh'\n",
    "rnninit = 'glorot_uniform'\n",
    "bidi = True\n",
    "bidi_mode = 'concat' # one of {'sum', 'mul', 'concat', 'ave'}\n",
    "finalact = 'sigmoid'\n",
    "rnn = SimpleRNN\n",
    "gru = CuDNNGRU # chuyen thanh GRU neu may ban khong ho tro CuDNN\n",
    "opt = 'adadelta'\n",
    "\n"
   ]
  },
  {
   "cell_type": "markdown",
   "metadata": {},
   "source": [
    "### Sentence vectorize"
   ]
  },
  {
   "cell_type": "code",
   "execution_count": 87,
   "metadata": {},
   "outputs": [],
   "source": [
    "tokenizer = Tokenizer(num_words=num_words)\n",
    "tokenizer.fit_on_texts(train_df[\"review\"])"
   ]
  },
  {
   "cell_type": "code",
   "execution_count": 88,
   "metadata": {},
   "outputs": [],
   "source": [
    "X_train = tokenizer.texts_to_sequences(train_df[\"review\"])\n",
    "X_test = tokenizer.texts_to_sequences(test_df[\"review\"])\n",
    "X_train = pad_sequences(X_train, maxlen=max_len, padding='post')\n",
    "X_test = pad_sequences(X_test, maxlen=max_len, padding='post')"
   ]
  },
  {
   "cell_type": "markdown",
   "metadata": {},
   "source": [
    "## Sentiment Analysis using Keras\n",
    "### Basic RNN cell"
   ]
  },
  {
   "cell_type": "code",
   "execution_count": 89,
   "metadata": {},
   "outputs": [],
   "source": [
    "def sa_by_basicrnn():\n",
    "    # input layer\n",
    "    input_s = Input(name='input_si', shape=(max_len,), dtype='int32')\n",
    "    # create random word embedding\n",
    "    shared_embedding = Embedding(name='emb', input_dim=num_words, input_length=max_len,\n",
    "                                output_dim=embedding_dim, mask_zero=False, trainable=True)\n",
    "    emb_s = shared_embedding(input_s)\n",
    "    emb_s = Dropout(dropout, noise_shape=(None, max_len, embedding_dim))(emb_s)\n",
    "    # rnn layer\n",
    "    if bidi:\n",
    "        shared_rnn = Bidirectional(\n",
    "            rnn(hidden_dim, kernel_initializer=rnninit, input_shape=(None, max_len, embedding_dim), \n",
    "                                   return_sequences=False, name='rnn'),\n",
    "            merge_mode=bidi_mode)\n",
    "        rnn_dim = hidden_dim * 2\n",
    "    else:\n",
    "        shared_rnn = rnn(hidden_dim, kernel_initializer=rnninit, input_shape=(None, max_len, embedding_dim), \n",
    "                                   return_sequences=False, name='rnn')\n",
    "        rnn_dim = hidden_dim\n",
    "        \n",
    "    rnn_s = shared_rnn(emb_s)\n",
    "    rnn_s = Dropout(dropout, noise_shape=(None, rnn_dim ))(rnn_s)\n",
    "    # final projection layer\n",
    "    final_s = Dense(1, activation=finalact)(rnn_s)\n",
    "    rnn_model = Model(inputs=input_s, outputs=final_s)\n",
    "    rnn_model.compile(loss='binary_crossentropy', optimizer=opt, metrics=['accuracy'])\n",
    "    return rnn_model\n",
    "    \n",
    "    "
   ]
  },
  {
   "cell_type": "code",
   "execution_count": 95,
   "metadata": {},
   "outputs": [],
   "source": [
    "def sa_by_GRU():\n",
    "    # input layer\n",
    "    input_s = Input(name='input_si', shape=(max_len,), dtype='int32')\n",
    "    # create random word embedding\n",
    "    shared_embedding = Embedding(name='emb', input_dim=num_words, input_length=max_len,\n",
    "                                output_dim=embedding_dim, mask_zero=False, trainable=True)\n",
    "    emb_s = shared_embedding(input_s)\n",
    "    emb_s = Dropout(dropout, noise_shape=(None, max_len, embedding_dim))(emb_s)\n",
    "    # rnn layer\n",
    "    if bidi:\n",
    "        shared_gru = Bidirectional(\n",
    "            gru(hidden_dim, kernel_initializer=rnninit, input_shape=(None, max_len, embedding_dim), \n",
    "                                   return_sequences=False, name='rnn'),\n",
    "            merge_mode=bidi_mode)\n",
    "        gru_dim = hidden_dim * 2\n",
    "    else:\n",
    "        shared_gru = gru(hidden_dim, kernel_initializer=rnninit, input_shape=(None, max_len, embedding_dim), \n",
    "                                   return_sequences=False, name='rnn')\n",
    "        gru_dim = hidden_dim\n",
    "        \n",
    "    gru_s = shared_gru(emb_s)\n",
    "    gru_s = Dropout(dropout, noise_shape=(None,gru_dim ))(gru_s)\n",
    "    # final projection layer\n",
    "    final_s = Dense(1, activation=finalact)(gru_s)\n",
    "    rnn_model = Model(inputs=input_s, outputs=final_s)\n",
    "    rnn_model.compile(loss='binary_crossentropy', optimizer=opt, metrics=['accuracy'])\n",
    "    return rnn_model\n",
    "    \n",
    "    "
   ]
  },
  {
   "cell_type": "code",
   "execution_count": 97,
   "metadata": {},
   "outputs": [
    {
     "name": "stdout",
     "output_type": "stream",
     "text": [
      "_________________________________________________________________\n",
      "Layer (type)                 Output Shape              Param #   \n",
      "=================================================================\n",
      "input_si (InputLayer)        (None, 500)               0         \n",
      "_________________________________________________________________\n",
      "emb (Embedding)              (None, 500, 300)          1500000   \n",
      "_________________________________________________________________\n",
      "dropout_22 (Dropout)         (None, 500, 300)          0         \n",
      "_________________________________________________________________\n",
      "bidirectional_11 (Bidirectio (None, 1500)              4734000   \n",
      "_________________________________________________________________\n",
      "dropout_23 (Dropout)         (None, 1500)              0         \n",
      "_________________________________________________________________\n",
      "dense_11 (Dense)             (None, 1)                 1501      \n",
      "=================================================================\n",
      "Total params: 6,235,501\n",
      "Trainable params: 6,235,501\n",
      "Non-trainable params: 0\n",
      "_________________________________________________________________\n",
      "None\n",
      "Train on 20000 samples, validate on 5000 samples\n",
      "Epoch 1/16\n",
      "20000/20000 [==============================] - 76s 4ms/step - loss: 0.6625 - acc: 0.6246 - val_loss: 1.0030 - val_acc: 0.0000e+00\n",
      "Epoch 2/16\n",
      "20000/20000 [==============================] - 75s 4ms/step - loss: 0.6578 - acc: 0.6250 - val_loss: 0.9656 - val_acc: 0.0000e+00\n",
      "Epoch 3/16\n",
      "20000/20000 [==============================] - 75s 4ms/step - loss: 0.6469 - acc: 0.6306 - val_loss: 0.5932 - val_acc: 0.7440\n",
      "Epoch 4/16\n",
      "20000/20000 [==============================] - 76s 4ms/step - loss: 0.6294 - acc: 0.6500 - val_loss: 0.9205 - val_acc: 0.1638\n",
      "Epoch 5/16\n",
      "20000/20000 [==============================] - 76s 4ms/step - loss: 0.5900 - acc: 0.6877 - val_loss: 0.6139 - val_acc: 0.6518\n",
      "Epoch 6/16\n",
      "20000/20000 [==============================] - 76s 4ms/step - loss: 0.5713 - acc: 0.7154 - val_loss: 0.8553 - val_acc: 0.3784\n",
      "Epoch 7/16\n",
      "20000/20000 [==============================] - 76s 4ms/step - loss: 0.5044 - acc: 0.7698 - val_loss: 1.6280 - val_acc: 0.4568\n",
      "Epoch 8/16\n",
      "20000/20000 [==============================] - 76s 4ms/step - loss: 0.4971 - acc: 0.7706 - val_loss: 0.7666 - val_acc: 0.5414\n",
      "Epoch 9/16\n",
      "20000/20000 [==============================] - 76s 4ms/step - loss: 0.4240 - acc: 0.8118 - val_loss: 0.6902 - val_acc: 0.6764\n",
      "Epoch 10/16\n",
      "20000/20000 [==============================] - 76s 4ms/step - loss: 0.4307 - acc: 0.8103 - val_loss: 0.6635 - val_acc: 0.6090\n",
      "Epoch 11/16\n",
      "20000/20000 [==============================] - 76s 4ms/step - loss: 0.3744 - acc: 0.8417 - val_loss: 0.5509 - val_acc: 0.7048\n",
      "Epoch 12/16\n",
      "20000/20000 [==============================] - 76s 4ms/step - loss: 0.3697 - acc: 0.8467 - val_loss: 0.3235 - val_acc: 0.8730\n",
      "Epoch 13/16\n",
      "20000/20000 [==============================] - 76s 4ms/step - loss: 0.3475 - acc: 0.8554 - val_loss: 0.6686 - val_acc: 0.6860\n",
      "Epoch 14/16\n",
      "20000/20000 [==============================] - 76s 4ms/step - loss: 0.3409 - acc: 0.8604 - val_loss: 0.4716 - val_acc: 0.8134\n",
      "Epoch 15/16\n",
      "20000/20000 [==============================] - 76s 4ms/step - loss: 0.3233 - acc: 0.8728 - val_loss: 0.6368 - val_acc: 0.6994\n",
      "Epoch 16/16\n",
      "20000/20000 [==============================] - 76s 4ms/step - loss: 0.2894 - acc: 0.8867 - val_loss: 1.0279 - val_acc: 0.5970\n"
     ]
    },
    {
     "data": {
      "text/plain": [
       "<keras.callbacks.History at 0x7fb02552ca58>"
      ]
     },
     "execution_count": 97,
     "metadata": {},
     "output_type": "execute_result"
    }
   ],
   "source": [
    "model = sa_by_GRU() # co the chuyen thanh sa_by_basicrnn\n",
    "print(model.summary())\n",
    "model.fit(X_train, train_df[\"sentiment\"], validation_split=0.2, batch_size=batch_size, epochs=epochs)"
   ]
  },
  {
   "cell_type": "code",
   "execution_count": 98,
   "metadata": {},
   "outputs": [
    {
     "name": "stdout",
     "output_type": "stream",
     "text": [
      "25000/25000 [==============================] - 53s 2ms/step\n"
     ]
    },
    {
     "data": {
      "text/plain": [
       "[0.5744919019556045, 0.77672]"
      ]
     },
     "execution_count": 98,
     "metadata": {},
     "output_type": "execute_result"
    }
   ],
   "source": [
    "model.evaluate(X_test, test_df[\"sentiment\"])"
   ]
  },
  {
   "cell_type": "code",
   "execution_count": null,
   "metadata": {},
   "outputs": [],
   "source": []
  }
 ],
 "metadata": {
  "kernelspec": {
   "display_name": "Python 3",
   "language": "python",
   "name": "python3"
  },
  "language_info": {
   "codemirror_mode": {
    "name": "ipython",
    "version": 3
   },
   "file_extension": ".py",
   "mimetype": "text/x-python",
   "name": "python",
   "nbconvert_exporter": "python",
   "pygments_lexer": "ipython3",
   "version": "3.6.3"
  }
 },
 "nbformat": 4,
 "nbformat_minor": 2
}
