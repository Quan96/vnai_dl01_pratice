{
 "cells": [
  {
   "cell_type": "markdown",
   "metadata": {},
   "source": [
    "**Nội dung bài thực hành**\n",
    "\n",
    "Người học tiếp cận và giải quyết bài toán phân tích cảm xúc sử dụng 2 mô hình là RNN và GRU. Sau khi thực hành, người học có khả năng:\n",
    "1. Sử dụng được Keras để cài đặt các mô hình mạng truy hồi\n",
    "  \n",
    "\n",
    "*   Thao tác với dữ liệu\n",
    "*   Chuyển từ văn bản sang không gian vector qua mạng truy hồi\n",
    "\n",
    "\n",
    "2. Áp dụng được RNN/ GRU cho bài toán phân tích cảm xúc\n",
    "\n",
    "\n",
    "*   Huấn luyện mô hình\n",
    "*   Đánh gía mô hình\n",
    "\n",
    "\n",
    "3. Cải tiến được mô hình phân tích cảm xúc\n",
    "3. Thực hành được với bài toán thực tế"
   ]
  },
  {
   "cell_type": "markdown",
   "metadata": {},
   "source": [
    "**Thao tác với dữ liệu**\n",
    "\n",
    "\n",
    "\n",
    "*   Bài thực hành sử dụng bộ dữ liệu IMDB review\n",
    "*   Dữ liệu gồm 2 phần: tập huấn luyện và tập kiểm thử (train data và test data). Mỗi phần gồm có 25000 câu, đuợc phân vào 2 lớp cảm xúc tích cực (positive) và tiêu cực (negative)\n",
    "*   Yêu cầu: xây dựng mô hình phân tích cảm xúc các đánh giá của nguời dùng dựa trên 2 mô hình RNN và GRU\n",
    "\n"
   ]
  },
  {
   "cell_type": "markdown",
   "metadata": {},
   "source": [
    "## Chuẩn bị dữ liệu\n",
    "### Download and unzip data "
   ]
  },
  {
   "cell_type": "code",
   "execution_count": 1,
   "metadata": {},
   "outputs": [
    {
     "name": "stdout",
     "output_type": "stream",
     "text": [
      "--2019-03-28 10:10:50--  http://ai.stanford.edu/~amaas/data/sentiment/aclImdb_v1.tar.gz\n",
      "Resolving ai.stanford.edu (ai.stanford.edu)... 171.64.68.10\n",
      "Connecting to ai.stanford.edu (ai.stanford.edu)|171.64.68.10|:80... connected.\n",
      "HTTP request sent, awaiting response... 200 OK\n",
      "Length: 84125825 (80M) [application/x-gzip]\n",
      "Saving to: 'aclImdb_v1.tar.gz'\n",
      "\n",
      "aclImdb_v1.tar.gz   100%[===================>]  80.23M  19.4KB/s    in 41m 41s \n",
      "\n",
      "2019-03-28 10:52:31 (32.8 KB/s) - 'aclImdb_v1.tar.gz' saved [84125825/84125825]\n",
      "\n"
     ]
    }
   ],
   "source": [
    "!wget http://ai.stanford.edu/~amaas/data/sentiment/aclImdb_v1.tar.gz"
   ]
  },
  {
   "cell_type": "code",
   "execution_count": 3,
   "metadata": {},
   "outputs": [],
   "source": [
    "# unzip downloaded file\n",
    "import tarfile\n",
    "tf = tarfile.open(\"aclImdb_v1.tar.gz\")\n",
    "tf.extractall()"
   ]
  },
  {
   "cell_type": "code",
   "execution_count": 1,
   "metadata": {},
   "outputs": [],
   "source": [
    "# Merge file\n",
    "# test\n",
    "import pandas as pd\n",
    "import os\n",
    "labels={\"pos\":1, \"neg\":0}\n",
    "test_df = pd.DataFrame()\n",
    "train_df = pd.DataFrame()\n",
    "\n",
    "for l in (\"pos\", \"neg\"):\n",
    "    path = \"aclImdb/train/%s\" %(l)\n",
    "    for file in os.listdir(path):\n",
    "        with open(os.path.join(path, file)) as infile:\n",
    "            txt = infile.read()\n",
    "        train_df = train_df.append([[txt, labels[l]]], ignore_index=True)\n",
    "train_df.columns=[\"review\", \"sentiment\"]\n",
    "\n",
    "for l in (\"pos\", \"neg\"):\n",
    "    path = \"aclImdb/test/%s\" %(l)\n",
    "    for file in os.listdir(path):\n",
    "        with open(os.path.join(path, file)) as infile:\n",
    "            txt = infile.read()\n",
    "        test_df = test_df.append([[txt, labels[l]]], ignore_index=True)\n",
    "test_df.columns=[\"review\", \"sentiment\"]"
   ]
  },
  {
   "cell_type": "code",
   "execution_count": 2,
   "metadata": {},
   "outputs": [
    {
     "data": {
      "text/html": [
       "<div>\n",
       "<style scoped>\n",
       "    .dataframe tbody tr th:only-of-type {\n",
       "        vertical-align: middle;\n",
       "    }\n",
       "\n",
       "    .dataframe tbody tr th {\n",
       "        vertical-align: top;\n",
       "    }\n",
       "\n",
       "    .dataframe thead th {\n",
       "        text-align: right;\n",
       "    }\n",
       "</style>\n",
       "<table border=\"1\" class=\"dataframe\">\n",
       "  <thead>\n",
       "    <tr style=\"text-align: right;\">\n",
       "      <th></th>\n",
       "      <th>review</th>\n",
       "      <th>sentiment</th>\n",
       "    </tr>\n",
       "  </thead>\n",
       "  <tbody>\n",
       "    <tr>\n",
       "      <th>15894</th>\n",
       "      <td>I thought the movie (especially the plot) need...</td>\n",
       "      <td>0</td>\n",
       "    </tr>\n",
       "    <tr>\n",
       "      <th>8022</th>\n",
       "      <td>I recently started watching this show, and I h...</td>\n",
       "      <td>1</td>\n",
       "    </tr>\n",
       "    <tr>\n",
       "      <th>4056</th>\n",
       "      <td>What a lovely heart warming television movie. ...</td>\n",
       "      <td>1</td>\n",
       "    </tr>\n",
       "    <tr>\n",
       "      <th>1393</th>\n",
       "      <td>\"Victor doesn't have much, but that's not stop...</td>\n",
       "      <td>1</td>\n",
       "    </tr>\n",
       "    <tr>\n",
       "      <th>17460</th>\n",
       "      <td>This movie was made for people who found Greml...</td>\n",
       "      <td>0</td>\n",
       "    </tr>\n",
       "  </tbody>\n",
       "</table>\n",
       "</div>"
      ],
      "text/plain": [
       "                                                  review  sentiment\n",
       "15894  I thought the movie (especially the plot) need...          0\n",
       "8022   I recently started watching this show, and I h...          1\n",
       "4056   What a lovely heart warming television movie. ...          1\n",
       "1393   \"Victor doesn't have much, but that's not stop...          1\n",
       "17460  This movie was made for people who found Greml...          0"
      ]
     },
     "execution_count": 2,
     "metadata": {},
     "output_type": "execute_result"
    }
   ],
   "source": [
    "train_df.sample(frac=1).head()"
   ]
  },
  {
   "cell_type": "code",
   "execution_count": 3,
   "metadata": {},
   "outputs": [
    {
     "data": {
      "text/html": [
       "<div>\n",
       "<style scoped>\n",
       "    .dataframe tbody tr th:only-of-type {\n",
       "        vertical-align: middle;\n",
       "    }\n",
       "\n",
       "    .dataframe tbody tr th {\n",
       "        vertical-align: top;\n",
       "    }\n",
       "\n",
       "    .dataframe thead th {\n",
       "        text-align: right;\n",
       "    }\n",
       "</style>\n",
       "<table border=\"1\" class=\"dataframe\">\n",
       "  <thead>\n",
       "    <tr style=\"text-align: right;\">\n",
       "      <th></th>\n",
       "      <th>review</th>\n",
       "      <th>sentiment</th>\n",
       "    </tr>\n",
       "  </thead>\n",
       "  <tbody>\n",
       "    <tr>\n",
       "      <th>0</th>\n",
       "      <td>Rated TV-14 for Sexual Content and Language.&lt;b...</td>\n",
       "      <td>1</td>\n",
       "    </tr>\n",
       "    <tr>\n",
       "      <th>1</th>\n",
       "      <td>Somehow, I missed many of the early Farscape e...</td>\n",
       "      <td>1</td>\n",
       "    </tr>\n",
       "    <tr>\n",
       "      <th>2</th>\n",
       "      <td>Supercarrier was my favorite movie in the late...</td>\n",
       "      <td>1</td>\n",
       "    </tr>\n",
       "    <tr>\n",
       "      <th>3</th>\n",
       "      <td>This is a harrowing movie, and it moves relent...</td>\n",
       "      <td>1</td>\n",
       "    </tr>\n",
       "    <tr>\n",
       "      <th>4</th>\n",
       "      <td>I recently saw House of Wax and must say i rea...</td>\n",
       "      <td>1</td>\n",
       "    </tr>\n",
       "  </tbody>\n",
       "</table>\n",
       "</div>"
      ],
      "text/plain": [
       "                                              review  sentiment\n",
       "0  Rated TV-14 for Sexual Content and Language.<b...          1\n",
       "1  Somehow, I missed many of the early Farscape e...          1\n",
       "2  Supercarrier was my favorite movie in the late...          1\n",
       "3  This is a harrowing movie, and it moves relent...          1\n",
       "4  I recently saw House of Wax and must say i rea...          1"
      ]
     },
     "execution_count": 3,
     "metadata": {},
     "output_type": "execute_result"
    }
   ],
   "source": [
    "test_df.head()"
   ]
  },
  {
   "cell_type": "markdown",
   "metadata": {},
   "source": [
    "### Làm sạch dữ liệu\n",
    "\n",
    "Vì dữ liệu đuợc crawl trực tiếp từ trang web nên việc xoá các tag html hay các cảm xúc emotition là cần thiết"
   ]
  },
  {
   "cell_type": "code",
   "execution_count": 4,
   "metadata": {},
   "outputs": [],
   "source": [
    "import re\n",
    "def preprocessor(text):\n",
    "    text = re.sub(r\"<[^>]>\", '', text)\n",
    "    emoticons = re.findall(\"(?:|;|=)(?:-)?(?:\\)\\(|D|P)\", text)\n",
    "    text = re.sub(\"[\\W]+\", \" \", text.lower()) + \\\n",
    "            \" \".join(emoticons).replace('-', '')\n",
    "    return text.lower()\n",
    "train_df[\"review\"] = train_df[\"review\"].apply(preprocessor)\n",
    "test_df[\"review\"] = test_df[\"review\"].apply(preprocessor)"
   ]
  },
  {
   "cell_type": "markdown",
   "metadata": {},
   "source": [
    "### Biễu diễn dữ liệu"
   ]
  },
  {
   "cell_type": "code",
   "execution_count": 5,
   "metadata": {},
   "outputs": [
    {
     "data": {
      "image/png": "[encoded data removed]",
      "text/plain": [
       "<Figure size 720x576 with 2 Axes>"
      ]
     },
     "metadata": {},
     "output_type": "display_data"
    }
   ],
   "source": [
    "from nltk.tokenize import word_tokenize\n",
    "import matplotlib.pyplot as plt\n",
    "%matplotlib inline\n",
    "\n",
    "plt.figure(figsize=(10,8))\n",
    "plt.subplot(2,1,1)\n",
    "plt.hist([len(word_tokenize(sent)) for sent in train_df[\"review\"]], bins=64)\n",
    "plt.xlabel(\"length of sentence\")\n",
    "plt.ylabel(\"Number of Sentences\")\n",
    "plt.title(\"Length of sentence in train data\")\n",
    "plt.grid()\n",
    "plt.subplot(2,1,2)\n",
    "plt.hist([len(word_tokenize(sent)) for sent in test_df[\"review\"]], bins=64)\n",
    "plt.xlabel(\"length of sentence\")\n",
    "plt.ylabel(\"Number of Sentences\")\n",
    "plt.title(\"Length of sentence in test data\")\n",
    "plt.grid()"
   ]
  },
  {
   "cell_type": "markdown",
   "metadata": {},
   "source": [
    "### Config\n",
    "Chuẩn bị các tham số cho mô hình"
   ]
  },
  {
   "cell_type": "code",
   "execution_count": 22,
   "metadata": {},
   "outputs": [],
   "source": [
    "from keras.preprocessing.text import Tokenizer\n",
    "from keras.preprocessing.sequence import pad_sequences\n",
    "from keras.layers.recurrent import GRU, SimpleRNN\n",
    "from keras.layers import CuDNNGRU # comment dong nay neu may ban khong ho tro CuDNN\n",
    "from keras.layers.embeddings import Embedding\n",
    "from keras.models import Model\n",
    "from keras.layers import Input, TimeDistributed, BatchNormalization\n",
    "from keras.layers.core import Activation, Dense, Dropout\n",
    "from keras.layers.wrappers import Bidirectional\n",
    "\n",
    "from keras import backend as K\n",
    "\n",
    "\n",
    "max_len = 500\n",
    "num_words = 5000\n",
    "embedding_dim = 300\n",
    "dropout = 0.2\n",
    "hidden_dim = 750\n",
    "l2_reg = 1e-4\n",
    "batch_size = 64\n",
    "epochs = 5\n",
    "learning_rate = 1e-3\n",
    "rnnact = 'tanh'\n",
    "rnninit = 'glorot_uniform'\n",
    "bidi = True\n",
    "bidi_mode = 'concat' # one of {'sum', 'mul', 'concat', 'ave'}\n",
    "finalact = 'sigmoid'\n",
    "rnn = SimpleRNN\n",
    "gru = CuDNNGRU # chuyen thanh GRU neu may ban khong ho tro CuDNN\n",
    "opt = 'adadelta'\n",
    "\n"
   ]
  },
  {
   "cell_type": "markdown",
   "metadata": {},
   "source": [
    "### Sentence vectorize"
   ]
  },
  {
   "cell_type": "code",
   "execution_count": 7,
   "metadata": {},
   "outputs": [],
   "source": [
    "tokenizer = Tokenizer(num_words=num_words)\n",
    "tokenizer.fit_on_texts(train_df[\"review\"])"
   ]
  },
  {
   "cell_type": "code",
   "execution_count": 8,
   "metadata": {},
   "outputs": [],
   "source": [
    "X_train = tokenizer.texts_to_sequences(train_df[\"review\"])\n",
    "X_test = tokenizer.texts_to_sequences(test_df[\"review\"])\n",
    "X_train = pad_sequences(X_train, maxlen=max_len, padding='post')\n",
    "X_test = pad_sequences(X_test, maxlen=max_len, padding='post')"
   ]
  },
  {
   "cell_type": "markdown",
   "metadata": {},
   "source": [
    "## Sentiment Analysis using Keras\n",
    "### Basic RNN cell"
   ]
  },
  {
   "cell_type": "code",
   "execution_count": 9,
   "metadata": {},
   "outputs": [],
   "source": [
    "def sa_by_basicrnn():\n",
    "    # input layer\n",
    "    input_s = Input(name='input_si', shape=(max_len,), dtype='int32')\n",
    "    # create random word embedding\n",
    "    shared_embedding = Embedding(name='emb', input_dim=num_words, input_length=max_len,\n",
    "                                output_dim=embedding_dim, mask_zero=False, trainable=True)\n",
    "    emb_s = shared_embedding(input_s)\n",
    "    emb_s = Dropout(dropout, noise_shape=(None, max_len, embedding_dim))(emb_s)\n",
    "    # rnn layer\n",
    "    if bidi:\n",
    "        shared_rnn = Bidirectional(\n",
    "            rnn(hidden_dim, kernel_initializer=rnninit, input_shape=(None, max_len, embedding_dim), \n",
    "                                   return_sequences=False, name='rnn'),\n",
    "            merge_mode=bidi_mode)\n",
    "        rnn_dim = hidden_dim * 2\n",
    "    else:\n",
    "        shared_rnn = rnn(hidden_dim, kernel_initializer=rnninit, input_shape=(None, max_len, embedding_dim), \n",
    "                                   return_sequences=False, name='rnn')\n",
    "        rnn_dim = hidden_dim\n",
    "        \n",
    "    rnn_s = shared_rnn(emb_s)\n",
    "    rnn_s = Dropout(dropout, noise_shape=(None, rnn_dim ))(rnn_s)\n",
    "    # final projection layer\n",
    "    final_s = Dense(1, activation=finalact)(rnn_s)\n",
    "    rnn_model = Model(inputs=input_s, outputs=final_s)\n",
    "    rnn_model.compile(loss='binary_crossentropy', optimizer=opt, metrics=['accuracy'])\n",
    "    return rnn_model\n",
    "    \n",
    "    "
   ]
  },
  {
   "cell_type": "code",
   "execution_count": 10,
   "metadata": {},
   "outputs": [],
   "source": [
    "def sa_by_GRU():\n",
    "    # input layer\n",
    "    input_s = Input(name='input_si', shape=(max_len,), dtype='int32')\n",
    "    # create random word embedding\n",
    "    shared_embedding = Embedding(name='emb', input_dim=num_words, input_length=max_len,\n",
    "                                output_dim=embedding_dim, mask_zero=False, trainable=True)\n",
    "    emb_s = shared_embedding(input_s)\n",
    "    emb_s = Dropout(dropout, noise_shape=(None, max_len, embedding_dim))(emb_s)\n",
    "    # rnn layer\n",
    "    if bidi:\n",
    "        shared_gru = Bidirectional(\n",
    "            gru(hidden_dim, kernel_initializer=rnninit, input_shape=(None, max_len, embedding_dim), \n",
    "                                   return_sequences=False, name='rnn'),\n",
    "            merge_mode=bidi_mode)\n",
    "        gru_dim = hidden_dim * 2\n",
    "    else:\n",
    "        shared_gru = gru(hidden_dim, kernel_initializer=rnninit, input_shape=(None, max_len, embedding_dim), \n",
    "                                   return_sequences=False, name='rnn')\n",
    "        gru_dim = hidden_dim\n",
    "        \n",
    "    gru_s = shared_gru(emb_s)\n",
    "    gru_s = Dropout(dropout, noise_shape=(None,gru_dim ))(gru_s)\n",
    "    # final projection layer\n",
    "    final_s = Dense(1, activation=finalact)(gru_s)\n",
    "    rnn_model = Model(inputs=input_s, outputs=final_s)\n",
    "    rnn_model.compile(loss='binary_crossentropy', optimizer=opt, metrics=['accuracy'])\n",
    "    return rnn_model\n",
    "    \n",
    "    "
   ]
  },
  {
   "cell_type": "code",
   "execution_count": 24,
   "metadata": {},
   "outputs": [
    {
     "name": "stdout",
     "output_type": "stream",
     "text": [
      "_________________________________________________________________\n",
      "Layer (type)                 Output Shape              Param #   \n",
      "=================================================================\n",
      "input_si (InputLayer)        (None, 500)               0         \n",
      "_________________________________________________________________\n",
      "emb (Embedding)              (None, 500, 300)          1500000   \n",
      "_________________________________________________________________\n",
      "dropout_1 (Dropout)          (None, 500, 300)          0         \n",
      "_________________________________________________________________\n",
      "bidirectional_1 (Bidirection (None, 1500)              4734000   \n",
      "_________________________________________________________________\n",
      "dropout_2 (Dropout)          (None, 1500)              0         \n",
      "_________________________________________________________________\n",
      "dense_1 (Dense)              (None, 1)                 1501      \n",
      "=================================================================\n",
      "Total params: 6,235,501\n",
      "Trainable params: 6,235,501\n",
      "Non-trainable params: 0\n",
      "_________________________________________________________________\n",
      "None\n",
      "Train on 20000 samples, validate on 5000 samples\n",
      "Epoch 1/5\n",
      "20000/20000 [==============================] - 98s 5ms/step - loss: 0.6602 - acc: 0.6246 - val_loss: 0.9414 - val_acc: 0.0000e+00\n",
      "Epoch 2/5\n",
      "20000/20000 [==============================] - 98s 5ms/step - loss: 0.6509 - acc: 0.6533 - val_loss: 0.6794 - val_acc: 0.5702\n",
      "Epoch 3/5\n",
      "20000/20000 [==============================] - 99s 5ms/step - loss: 0.5604 - acc: 0.7265 - val_loss: 0.6573 - val_acc: 0.6632\n",
      "Epoch 4/5\n",
      "20000/20000 [==============================] - 99s 5ms/step - loss: 0.4782 - acc: 0.7848 - val_loss: 0.5545 - val_acc: 0.7058\n",
      "Epoch 5/5\n",
      "20000/20000 [==============================] - 99s 5ms/step - loss: 0.4144 - acc: 0.8220 - val_loss: 0.7879 - val_acc: 0.5298\n"
     ]
    },
    {
     "data": {
      "text/plain": [
       "<keras.callbacks.History at 0x7fe7d635dc88>"
      ]
     },
     "execution_count": 24,
     "metadata": {},
     "output_type": "execute_result"
    }
   ],
   "source": [
    "model = sa_by_GRU() # co the chuyen thanh sa_by_basicrnn\n",
    "print(model.summary())\n",
    "model.fit(X_train, train_df[\"sentiment\"], validation_split=0.2, batch_size=batch_size, epochs=epochs)"
   ]
  },
  {
   "cell_type": "code",
   "execution_count": 25,
   "metadata": {},
   "outputs": [
    {
     "name": "stdout",
     "output_type": "stream",
     "text": [
      "25000/25000 [==============================] - 53s 2ms/step\n"
     ]
    },
    {
     "data": {
      "text/plain": [
       "[0.5390658927154541, 0.72592]"
      ]
     },
     "execution_count": 25,
     "metadata": {},
     "output_type": "execute_result"
    }
   ],
   "source": [
    "model.evaluate(X_test, test_df[\"sentiment\"])"
   ]
  },
  {
   "cell_type": "code",
   "execution_count": 23,
   "metadata": {},
   "outputs": [],
   "source": [
    "K.clear_session()"
   ]
  },
  {
   "cell_type": "markdown",
   "metadata": {},
   "source": [
    "### Fine Tuning Model\n",
    "Su dung Glove word vector va tang so layer cua mo hinh"
   ]
  },
  {
   "cell_type": "code",
   "execution_count": 14,
   "metadata": {},
   "outputs": [],
   "source": [
    "import numpy as np\n",
    "embeddings_index = dict()\n",
    "with open('glove.6B.100d.txt') as f:\n",
    "    for line in f:\n",
    "        values = line.split()\n",
    "        word = values[0]\n",
    "        coefs = np.asarray(values[1:], dtype='float32')\n",
    "        embeddings_index[word] = coefs"
   ]
  },
  {
   "cell_type": "markdown",
   "metadata": {},
   "source": [
    "#### Word Vector\n",
    "\n",
    "trong NLP, word vector là 1 trong những ứng dụng thành công nhất của học chuyển đổi. Word Vector đuợc khởi tạo bằng một mô hình huấn luyện truớc thay vì khởi tạo random như ví dụ trên.\n",
    "\n",
    "Glove là 1 trong những bộ wordvector nổi tiếng nhất. Glove có thể tải tại đây https://nlp.stanford.edu/projects/glove/"
   ]
  },
  {
   "cell_type": "code",
   "execution_count": 15,
   "metadata": {},
   "outputs": [
    {
     "name": "stdout",
     "output_type": "stream",
     "text": [
      "Found 4999 word in Glove word vector\n"
     ]
    }
   ],
   "source": [
    "init_emb = np.random.rand(num_words+1, 100)\n",
    "counter = 0\n",
    "for word, i in tokenizer.word_index.items():\n",
    "    if i > 5000:\n",
    "        break\n",
    "    embedding_vector = embeddings_index.get(word)\n",
    "    if embedding_vector is not None:\n",
    "        counter += 1\n",
    "        init_emb[i] = embedding_vector\n",
    "print(\"Found %d word in Glove word vector\" %counter)"
   ]
  },
  {
   "cell_type": "code",
   "execution_count": 16,
   "metadata": {},
   "outputs": [],
   "source": [
    "# new model\n",
    "from keras import optimizers\n",
    "def get_fine_tuning_GRU():\n",
    "    # input layer\n",
    "    input_s = Input(name='input_si', shape=(max_len,), dtype='int32')\n",
    "    # create random word embedding\n",
    "    shared_embedding = Embedding(name='emb', input_dim=num_words+1, input_length=max_len,\n",
    "                                output_dim=100, mask_zero=False, trainable=False, weights=[init_emb])\n",
    "    emb_s = shared_embedding(input_s)\n",
    "    emb_s = Dropout(dropout, noise_shape=(None, max_len, 100))(emb_s)\n",
    "    # rnn layer\n",
    "    shared_gru = Bidirectional(\n",
    "        gru(hidden_dim, kernel_initializer=rnninit,  \n",
    "            return_sequences=True, name='gru1'),\n",
    "        merge_mode=bidi_mode)          \n",
    "    gru_s = shared_gru(emb_s)\n",
    "    gru_s = Dropout(dropout, noise_shape=(None, max_len, hidden_dim * 2 ))(gru_s)\n",
    "    shared_gru = Bidirectional(\n",
    "        gru(hidden_dim, kernel_initializer=rnninit,\n",
    "            return_sequences=False, name='gru2'),\n",
    "        merge_mode=bidi_mode)          \n",
    "    gru_s = shared_gru(gru_s)    \n",
    "    gru_s = Dropout(dropout, noise_shape=(None, hidden_dim * 2))(gru_s)\n",
    "    # final projection layer\n",
    "    dense_s = Dense(hidden_dim *2, activation=\"relu\")(gru_s)\n",
    "    final_s = Dense(1, activation=finalact)(dense_s)\n",
    "    gru_model = Model(inputs=input_s, outputs=final_s)\n",
    "    optimizer = optimizers.Adam(lr=0.001, decay=0.001);\n",
    "    gru_model.compile(loss='binary_crossentropy', optimizer=optimizer, metrics=['accuracy'])\n",
    "    return gru_model"
   ]
  },
  {
   "cell_type": "code",
   "execution_count": 20,
   "metadata": {},
   "outputs": [
    {
     "name": "stdout",
     "output_type": "stream",
     "text": [
      "_________________________________________________________________\n",
      "Layer (type)                 Output Shape              Param #   \n",
      "=================================================================\n",
      "input_si (InputLayer)        (None, 500)               0         \n",
      "_________________________________________________________________\n",
      "emb (Embedding)              (None, 500, 100)          500100    \n",
      "_________________________________________________________________\n",
      "dropout_1 (Dropout)          (None, 500, 100)          0         \n",
      "_________________________________________________________________\n",
      "bidirectional_1 (Bidirection (None, 500, 1500)         3834000   \n",
      "_________________________________________________________________\n",
      "dropout_2 (Dropout)          (None, 500, 1500)         0         \n",
      "_________________________________________________________________\n",
      "bidirectional_2 (Bidirection (None, 1500)              10134000  \n",
      "_________________________________________________________________\n",
      "dropout_3 (Dropout)          (None, 1500)              0         \n",
      "_________________________________________________________________\n",
      "dense_1 (Dense)              (None, 1500)              2251500   \n",
      "_________________________________________________________________\n",
      "dense_2 (Dense)              (None, 1)                 1501      \n",
      "=================================================================\n",
      "Total params: 16,721,101\n",
      "Trainable params: 16,221,001\n",
      "Non-trainable params: 500,100\n",
      "_________________________________________________________________\n",
      "None\n",
      "Train on 20000 samples, validate on 5000 samples\n",
      "Epoch 1/5\n",
      "20000/20000 [==============================] - 244s 12ms/step - loss: 0.5375 - acc: 0.7247 - val_loss: 0.2883 - val_acc: 0.8728\n",
      "Epoch 2/5\n",
      "20000/20000 [==============================] - 243s 12ms/step - loss: 0.3503 - acc: 0.8490 - val_loss: 0.4397 - val_acc: 0.8060\n",
      "Epoch 3/5\n",
      "20000/20000 [==============================] - 244s 12ms/step - loss: 0.3142 - acc: 0.8690 - val_loss: 0.4804 - val_acc: 0.7640\n",
      "Epoch 4/5\n",
      "20000/20000 [==============================] - 244s 12ms/step - loss: 0.2828 - acc: 0.8812 - val_loss: 0.5560 - val_acc: 0.7644\n",
      "Epoch 5/5\n",
      "20000/20000 [==============================] - 244s 12ms/step - loss: 0.2662 - acc: 0.8895 - val_loss: 0.4605 - val_acc: 0.8082\n"
     ]
    },
    {
     "data": {
      "text/plain": [
       "<keras.callbacks.History at 0x7fe7d414b198>"
      ]
     },
     "execution_count": 20,
     "metadata": {},
     "output_type": "execute_result"
    }
   ],
   "source": [
    "model = get_fine_tuning_GRU() \n",
    "print(model.summary())\n",
    "model.fit(X_train, train_df[\"sentiment\"], validation_split=0.2, batch_size=batch_size, epochs=5)"
   ]
  },
  {
   "cell_type": "code",
   "execution_count": 21,
   "metadata": {},
   "outputs": [
    {
     "name": "stdout",
     "output_type": "stream",
     "text": [
      "25000/25000 [==============================] - 127s 5ms/step\n"
     ]
    },
    {
     "data": {
      "text/plain": [
       "[0.3024930758857727, 0.87396]"
      ]
     },
     "execution_count": 21,
     "metadata": {},
     "output_type": "execute_result"
    }
   ],
   "source": [
    "model.evaluate(X_test, test_df[\"sentiment\"])"
   ]
  },
  {
   "cell_type": "code",
   "execution_count": null,
   "metadata": {},
   "outputs": [],
   "source": []
  }
 ],
 "metadata": {
  "kernelspec": {
   "display_name": "Python 3",
   "language": "python",
   "name": "python3"
  }
 },
 "nbformat": 4,
 "nbformat_minor": 2
}
